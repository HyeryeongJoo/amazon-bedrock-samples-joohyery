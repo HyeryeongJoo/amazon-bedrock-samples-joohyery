{
 "cells": [
  {
   "cell_type": "markdown",
   "id": "06cd96b7",
   "metadata": {},
   "source": [
    "# Bedrock의 Claude 모델을 활용하여 OCR 텍스트와 원본 이미지를 분석하고, 번역가들이 사용할 최종 파일을 생성하기\n",
    "(이미지와 OCR 텍스트를 Claude가 분석하여 의미적 그룹으로 분류)"
   ]
  },
  {
   "cell_type": "markdown",
   "id": "ade8a6e3",
   "metadata": {},
   "source": [
    "## 1. 환경 셋업"
   ]
  },
  {
   "cell_type": "code",
   "execution_count": 1,
   "id": "afd9e9ad",
   "metadata": {},
   "outputs": [],
   "source": [
    "%load_ext autoreload\n",
    "%autoreload 2"
   ]
  },
  {
   "cell_type": "code",
   "execution_count": 2,
   "id": "69c6ccb0",
   "metadata": {},
   "outputs": [
    {
     "name": "stdout",
     "output_type": "stream",
     "text": [
      "Requirement already satisfied: Pillow in /Library/Frameworks/Python.framework/Versions/3.12/lib/python3.12/site-packages (11.2.1)\n",
      "Requirement already satisfied: openpyxl in /Library/Frameworks/Python.framework/Versions/3.12/lib/python3.12/site-packages (3.1.5)\n",
      "Requirement already satisfied: pandas in /Library/Frameworks/Python.framework/Versions/3.12/lib/python3.12/site-packages (2.2.3)\n",
      "Requirement already satisfied: et-xmlfile in /Library/Frameworks/Python.framework/Versions/3.12/lib/python3.12/site-packages (from openpyxl) (2.0.0)\n",
      "Requirement already satisfied: numpy>=1.26.0 in /Library/Frameworks/Python.framework/Versions/3.12/lib/python3.12/site-packages (from pandas) (2.2.5)\n",
      "Requirement already satisfied: python-dateutil>=2.8.2 in /Library/Frameworks/Python.framework/Versions/3.12/lib/python3.12/site-packages (from pandas) (2.9.0.post0)\n",
      "Requirement already satisfied: pytz>=2020.1 in /Library/Frameworks/Python.framework/Versions/3.12/lib/python3.12/site-packages (from pandas) (2024.2)\n",
      "Requirement already satisfied: tzdata>=2022.7 in /Library/Frameworks/Python.framework/Versions/3.12/lib/python3.12/site-packages (from pandas) (2025.2)\n",
      "Requirement already satisfied: six>=1.5 in /Library/Frameworks/Python.framework/Versions/3.12/lib/python3.12/site-packages (from python-dateutil>=2.8.2->pandas) (1.17.0)\n",
      "\n",
      "\u001b[1m[\u001b[0m\u001b[34;49mnotice\u001b[0m\u001b[1;39;49m]\u001b[0m\u001b[39;49m A new release of pip is available: \u001b[0m\u001b[31;49m25.1.1\u001b[0m\u001b[39;49m -> \u001b[0m\u001b[32;49m25.2\u001b[0m\n",
      "\u001b[1m[\u001b[0m\u001b[34;49mnotice\u001b[0m\u001b[1;39;49m]\u001b[0m\u001b[39;49m To update, run: \u001b[0m\u001b[32;49mpip install --upgrade pip\u001b[0m\n"
     ]
    }
   ],
   "source": [
    "!pip install Pillow openpyxl pandas"
   ]
  },
  {
   "cell_type": "code",
   "execution_count": null,
   "id": "809419fa",
   "metadata": {},
   "outputs": [
    {
     "name": "stdout",
     "output_type": "stream",
     "text": [
      "python path: /Users/joohyery/Documents/Dev/amazon-bedrock-samples-joohyery is added\n",
      "sys.path:  ['/Library/Frameworks/Python.framework/Versions/3.12/lib/python312.zip', '/Library/Frameworks/Python.framework/Versions/3.12/lib/python3.12', '/Library/Frameworks/Python.framework/Versions/3.12/lib/python3.12/lib-dynload', '', '/Users/joohyery/Library/Python/3.12/lib/python/site-packages', '/Library/Frameworks/Python.framework/Versions/3.12/lib/python3.12/site-packages', '/Users/joohyery/Documents/Dev/amazon-bedrock-samples-joohyery']\n"
     ]
    }
   ],
   "source": [
    "import sys\n",
    "import boto3\n",
    "import json\n",
    "from typing import Dict, List, Optional\n",
    "from datetime import datetime\n",
    "import os\n",
    "import base64\n",
    "from botocore.config import Config\n",
    "\n",
    "\n",
    "# utils 모듈 임포트\n",
    "from utils import (\n",
    "    encode_image, \n",
    "    read_html_content, \n",
    "    get_image_format,\n",
    "    create_translation_workflow,\n",
    "    add_python_path,\n",
    "    check_file_paths,\n",
    "    list_ocr_results\n",
    ")\n",
    "\n",
    "# Python 경로 설정\n",
    "module_path = \"..\"\n",
    "add_python_path(module_path)\n"
   ]
  },
  {
   "cell_type": "code",
   "execution_count": null,
   "id": "e669278c-6a18-408b-b3fa-2ccbed027621",
   "metadata": {
    "tags": []
   },
   "outputs": [],
   "source": [
    "# AWS Bedrock 클라이언트 설정\n",
    "\n",
    "region = \"us-west-2\"\n",
    "nova_pro_model_id = \"us.amazon.nova-pro-v1:0\"\n",
    "claude3_7_model_id = \"us.anthropic.claude-3-7-sonnet-20250219-v1:0\"\n",
    "\n",
    "config = Config(\n",
    "    read_timeout=300,  # 이미지 + 텍스트 멀티모달 처리를 위해 5분으로 설정\n",
    ")\n",
    "\n",
    "client = boto3.client(service_name=\"bedrock-runtime\", region_name=region, config=config)\n"
   ]
  },
  {
   "cell_type": "markdown",
   "id": "d1e7990f-89b6-4ff2-b596-0ce2657504eb",
   "metadata": {
    "tags": []
   },
   "source": [
    "# 2. OCR 결과 파일 경로 로딩 하기"
   ]
  },
  {
   "cell_type": "code",
   "execution_count": 5,
   "id": "d65fa5cb",
   "metadata": {},
   "outputs": [
    {
     "name": "stdout",
     "output_type": "stream",
     "text": [
      "현재 작업 디렉토리: /Users/joohyery/Documents/Dev/amazon-bedrock-samples-joohyery/bedrock-translate\n",
      "OCR 결과 파일들:\n",
      "  - try_upstage_document_ai.json\n",
      "  - try_upstage_document_ai.html\n",
      "이미지 파일: samples/sample1.jpg (존재)\n",
      "HTML 파일: ocr-results/try_upstage_document_ai.html (존재)\n"
     ]
    },
    {
     "data": {
      "text/plain": [
       "(True, True)"
      ]
     },
     "execution_count": 5,
     "metadata": {},
     "output_type": "execute_result"
    }
   ],
   "source": [
    "# 현재 작업 디렉토리 확인\n",
    "current_folder = os.getcwd()\n",
    "print(f\"현재 작업 디렉토리: {current_folder}\")\n",
    "\n",
    "# OCR 결과 파일 목록 확인\n",
    "list_ocr_results()\n",
    "\n",
    "# 기본 파일 경로\n",
    "image_path = \"samples/sample1.jpg\"\n",
    "html_path = \"ocr-results/try_upstage_document_ai.html\"\n",
    "\n",
    "# 파일 존재 여부 확인\n",
    "check_file_paths(image_path, html_path)"
   ]
  },
  {
   "cell_type": "code",
   "execution_count": null,
   "id": "6e2fe5ee",
   "metadata": {},
   "outputs": [],
   "source": [
    "def llm_converse(image_base64, html_content, model_id):\n",
    "    \"\"\"Claude 모델에 Converse API를 사용하여 이미지와 텍스트를 함께 전송하여 분석 요청\"\"\"\n",
    "    \n",
    "    # 이미지 형식 자동 감지\n",
    "    image_format = get_image_format(image_path)\n",
    "    print(image_format)\n",
    "    \n",
    "    # 시스템 프롬프트\n",
    "    system_prompt = \"\"\"\n",
    "    당신은 OCR 텍스트와 원본 이미지를 분석하여 번역가가 사용할 수 있도록 텍스트를 의미적 그룹으로 분류하는 전문가입니다.\n",
    "    \n",
    "    주어진 이미지와 OCR 텍스트를 분석하여 다음과 같이 처리해주세요:\n",
    "    \n",
    "    1. 이미지의 레이아웃과 텍스트의 배치를 파악\n",
    "    2. 의미적으로 연관된 텍스트들을 그룹화\n",
    "    \n",
    "    결과는 JSON 형태로 반환해주세요:\n",
    "    {\n",
    "        \"groups\": [\n",
    "            {\n",
    "                \"category\": \"그룹 카테고리명\",\n",
    "                \"description\": \"그룹 설명\",\n",
    "                \"texts\": [\"텍스트1\", \"텍스트2\", ...]\n",
    "            }\n",
    "        ]\n",
    "    }\n",
    "    \"\"\"\n",
    "    \n",
    "    user_prompt = f\"\"\"\n",
    "    다음은 OCR로 추출된 HTML 입니다:\n",
    "    \n",
    "    {html_content}\n",
    "    \n",
    "    이 텍스트와 함께 제공된 원본 이미지를 분석하여, 번역가가 효율적으로 작업할 수 있도록 의미적으로 연관된 텍스트들을 그룹화해주세요.\n",
    "    \"\"\"\n",
    "    \n",
    "    try:\n",
    "        # Converse API 호출\n",
    "        response = client.converse(\n",
    "            modelId=claude3_7_model_id,\n",
    "            messages=[\n",
    "                {\n",
    "                    \"role\": \"user\",\n",
    "                    \"content\": [\n",
    "                        {\n",
    "                            \"image\": {\n",
    "                                \"format\": image_format,\n",
    "                                \"source\": {\n",
    "                                    \"bytes\": base64.b64decode(image_base64)\n",
    "                                }\n",
    "                            }\n",
    "                        },\n",
    "                        {\n",
    "                            \"text\": user_prompt\n",
    "                        }\n",
    "                    ]\n",
    "                }\n",
    "            ],\n",
    "            system=[\n",
    "                {\n",
    "                    \"text\": system_prompt\n",
    "                }\n",
    "            ],\n",
    "            inferenceConfig={\n",
    "                \"maxTokens\": 4000,\n",
    "                \"temperature\": 0.1\n",
    "            }\n",
    "        )\n",
    "        \n",
    "        # 응답에서 텍스트 추출\n",
    "        response_text = response['output']['message']['content'][0]['text']\n",
    "        return response_text\n",
    "        \n",
    "    except Exception as e:\n",
    "        raise Exception(f\"Claude 모델 호출 중 오류 발생: {str(e)}\")"
   ]
  },
  {
   "cell_type": "code",
   "execution_count": null,
   "id": "9ba97546",
   "metadata": {},
   "outputs": [],
   "source": [
    "def main_process_converse(image_path, html_path):\n",
    "    \"\"\"전체 프로세스를 실행하는 메인 함수 (Converse API 사용)\"\"\"\n",
    "    \n",
    "    print(\"=== OCR 텍스트와 이미지 분석 시작 (Converse API) ===\")\n",
    "    \n",
    "    try:\n",
    "        # 1. 이미지 인코딩\n",
    "        print(\"1. 이미지를 인코딩 중...\")\n",
    "        image_base64 = encode_image(image_path)\n",
    "        print(\"   이미지 인코딩 완료\")\n",
    "        \n",
    "        # 2. HTML 내용 읽기\n",
    "        print(\"2. OCR 결과를 읽는 중...\")\n",
    "        html_content = read_html_content(html_path)\n",
    "        print(f\"   HTML 내용 길이: {len(html_content)} 문자\")\n",
    "        \n",
    "        # 3. 모델로 전사 작업\n",
    "        print(\"3. LLM 모델로 텍스트 그룹 분석 중...\")\n",
    "        \n",
    "        claude_response = llm_converse(image_base64, html_content, claude3_7_model_id)\n",
    "        \n",
    "        print(\"   Claude 분석 완료\")\n",
    "        \n",
    "        # 4. JSON 파싱 \n",
    "        print(\"4. 결과를 파싱 중...\")\n",
    "        try:\n",
    "            json_text = claude_response.strip()\n",
    "            \n",
    "            # 마크다운 JSON 코드 블록 찾기\n",
    "            if \"```json\" in claude_response:\n",
    "                json_start = claude_response.find(\"```\")\n",
    "                json_end = claude_response.find(\"```\", json_start)\n",
    "                \n",
    "                if json_end != -1:\n",
    "                    json_text = claude_response[json_start:json_end].strip()\n",
    "                else:\n",
    "                    json_text = claude_response[json_start:].strip()\n",
    "            \n",
    "            parsed_result = json.loads(json_text)\n",
    "            grouped_texts = parsed_result.get('groups', [])\n",
    "            \n",
    "        except json.JSONDecodeError as e:\n",
    "            print(f\"   JSON 파싱 실패: {str(e)}\")\n",
    "            print(\"   텍스트를 단순 그룹으로 처리합니다.\")\n",
    "            grouped_texts = [{\"category\": \"General\", \"texts\": [claude_response]}]\n",
    "        \n",
    "        print(f\"   총 {len(grouped_texts)}개의 텍스트 그룹 생성\")\n",
    "        \n",
    "        # 5. 번역 문서 생성\n",
    "        print(\"5. 번역 문서 생성 중...\")\n",
    "        image_name = os.path.splitext(os.path.basename(image_path))[0]\n",
    "        final_file_path = create_translation_workflow(\n",
    "            grouped_texts=grouped_texts,\n",
    "            image_name=image_name,\n",
    "            source_lang=\"Korean\",\n",
    "            target_lang=\"English\"\n",
    "        )\n",
    "        \n",
    "        print(\"\\n=== 전체 프로세스 완료 ===\")\n",
    "        print(f\"최종 파일: {final_file_path}\")\n",
    "        \n",
    "        return final_file_path, grouped_texts\n",
    "        \n",
    "    except Exception as e:\n",
    "        print(f\"오류 발생: {str(e)}\")\n",
    "        return None, None\n"
   ]
  },
  {
   "cell_type": "code",
   "execution_count": 13,
   "id": "df09a77f",
   "metadata": {},
   "outputs": [
    {
     "name": "stdout",
     "output_type": "stream",
     "text": [
      "이미지 파일: samples/sample1.jpg (존재)\n",
      "HTML 파일: ocr-results/try_upstage_document_ai.html (존재)\n",
      "\n",
      "==================================================\n",
      "프로세스를 시작합니다... (Converse API)\n",
      "==================================================\n",
      "\n",
      ">>> 일반 모드로 실행 중...\n",
      "=== OCR 텍스트와 이미지 분석 시작 (Converse API) ===\n",
      "1. 이미지를 인코딩 중...\n",
      "원본 이미지 크기: 1000x17717\n",
      "이미지 크기가 너무 큽니다. 리사이징 중... (최대: 8000x8000)\n",
      "리사이징된 이미지 크기: 451x8000\n",
      "   이미지 인코딩 완료\n",
      "2. OCR 결과를 읽는 중...\n",
      "   HTML 내용 길이: 9147 문자\n",
      "3. LLM 모델로 텍스트 그룹 분석 중 (Converse API)...\n",
      "   Claude 분석 완료\n",
      "4. 결과를 파싱 중...\n",
      "   JSON 파싱 실패: Expecting value: line 1 column 1 (char 0)\n",
      "   텍스트를 단순 그룹으로 처리합니다.\n",
      "   총 1개의 텍스트 그룹 생성\n",
      "5. 번역 문서 생성 중...\n",
      "번역 문서를 포맷팅 중...\n",
      "번역 문서를 저장 중...\n",
      "'/Users/joohyery/Documents/Dev/amazon-bedrock-samples-joohyery/bedrock-translate/final_results' 폴더를 생성했습니다.\n",
      "번역 문서가 저장되었습니다: /Users/joohyery/Documents/Dev/amazon-bedrock-samples-joohyery/bedrock-translate/final_results/translation_document_sample1_20250805_092454.xlsx\n",
      "총 1개의 텍스트 그룹이 포함되어 있습니다.\n",
      "\n",
      "=== 번역 문서 생성 완료 ===\n",
      "파일 경로: /Users/joohyery/Documents/Dev/amazon-bedrock-samples-joohyery/bedrock-translate/final_results/translation_document_sample1_20250805_092454.xlsx\n",
      "텍스트 그룹 수: 1\n",
      "소스 언어: Korean\n",
      "타겟 언어: English\n",
      "\n",
      "=== 전체 프로세스 완료 ===\n",
      "최종 파일: /Users/joohyery/Documents/Dev/amazon-bedrock-samples-joohyery/bedrock-translate/final_results/translation_document_sample1_20250805_092454.xlsx\n",
      "\n",
      "✅ 성공적으로 완료되었습니다!\n",
      "📁 번역 문서 위치: /Users/joohyery/Documents/Dev/amazon-bedrock-samples-joohyery/bedrock-translate/final_results/translation_document_sample1_20250805_092454.xlsx\n",
      "📊 텍스트 그룹 수: 1\n"
     ]
    }
   ],
   "source": [
    "image_exists, html_exists = check_file_paths(image_path, html_path)\n",
    "\n",
    "if image_exists and html_exists:\n",
    "    print(\"\\n\" + \"=\"*50)\n",
    "    print(\"프로세스를 시작합니다... (Converse API)\")\n",
    "    print(\"=\"*50)\n",
    "    \n",
    "    # 일반 모드 실행\n",
    "    print(\"\\n>>> 일반 모드로 실행 중...\")\n",
    "    final_file, groups = main_process_converse(image_path, html_path)\n",
    "    \n",
    "    if final_file:\n",
    "        print(f\"\\n✅ 성공적으로 완료되었습니다!\")\n",
    "        print(f\"📁 번역 문서 위치: {final_file}\")\n",
    "        print(f\"📊 텍스트 그룹 수: {len(groups) if groups else 0}\")\n",
    "    else:\n",
    "        print(\"❌ 프로세스 실행 중 오류가 발생했습니다.\")\n",
    "else:\n",
    "    print(\"❌ 필요한 파일이 없어서 프로세스를 실행할 수 없습니다.\")"
   ]
  },
  {
   "cell_type": "code",
   "execution_count": null,
   "id": "f14ce68c",
   "metadata": {},
   "outputs": [],
   "source": []
  }
 ],
 "metadata": {
  "kernelspec": {
   "display_name": "Python 3",
   "language": "python",
   "name": "python3"
  },
  "language_info": {
   "codemirror_mode": {
    "name": "ipython",
    "version": 3
   },
   "file_extension": ".py",
   "mimetype": "text/x-python",
   "name": "python",
   "nbconvert_exporter": "python",
   "pygments_lexer": "ipython3",
   "version": "3.12.8"
  }
 },
 "nbformat": 4,
 "nbformat_minor": 5
}
